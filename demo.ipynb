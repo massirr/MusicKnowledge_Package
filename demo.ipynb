{
 "cells": [
  {
   "cell_type": "markdown",
   "metadata": {},
   "source": [
    "# Best selling artist\n",
    "- The database used is from Kaggle as a csv file\n",
    "https://www.kaggle.com/datasets/khushikhushikhushi/best-selling-music-artists"
   ]
  },
  {
   "cell_type": "code",
   "execution_count": 1,
   "metadata": {},
   "outputs": [],
   "source": [
    "from MusicKnowledge import Artist\n",
    "\n",
    "Artist.noName()"
   ]
  },
  {
   "cell_type": "markdown",
   "metadata": {},
   "source": [
    "# Rock artist info\n",
    "- I ensured only rock artist names would give results else raise a massage that the artist is not a rock artist\n",
    "- Used a few websites to scrape for the picture and description\n",
    "    * [www.last.fm](https://www.last.fm) - for image and description\n",
    "- Used spotify api for their music"
   ]
  },
  {
   "cell_type": "code",
   "execution_count": 2,
   "metadata": {},
   "outputs": [],
   "source": [
    "from MusicKnowledge import Artist\n",
    "\n",
    "Artist.name('wishbone ash')\n",
    "#Artist.name('burna boy')"
   ]
  },
  {
   "cell_type": "markdown",
   "metadata": {},
   "source": [
    "# Hit songs in a specific year\n",
    "- I used spotify api to get the greatest hits in a specific year\n",
    "- goes all the way to 19 BC or maybe bellow\n",
    "- raises a massege if no data is found\n",
    "- it overights the file made if it exists\n",
    "- I was not able to get the sales of the album and grouped them by popularity"
   ]
  },
  {
   "cell_type": "code",
   "execution_count": 8,
   "metadata": {},
   "outputs": [
    {
     "name": "stdout",
     "output_type": "stream",
     "text": [
      "No rock songs found for the year Irakoze.\n"
     ]
    }
   ],
   "source": [
    "from MusicKnowledge import Year\n",
    "\n",
    "#Year.year(1780)\n",
    "#Year.year(2000)\n",
    "Year.year('Irakoze')"
   ]
  },
  {
   "cell_type": "markdown",
   "metadata": {},
   "source": [
    "# Upcoming shows in Belgium\n",
    "- used a website to get this infomation <br>\n",
    "https://www.livenation.be/event/allevents?genres=rock&page=%7Bpage%7D\n",
    "- raises an error if shows are not found\n"
   ]
  },
  {
   "cell_type": "code",
   "execution_count": 11,
   "metadata": {},
   "outputs": [
    {
     "name": "stdout",
     "output_type": "stream",
     "text": [
      "Not available\n"
     ]
    }
   ],
   "source": [
    "from MusicKnowledge import Shows\n",
    "\n",
    "Shows.shows(\"South Korea\")"
   ]
  }
 ],
 "metadata": {
  "kernelspec": {
   "display_name": "base",
   "language": "python",
   "name": "python3"
  },
  "language_info": {
   "codemirror_mode": {
    "name": "ipython",
    "version": 3
   },
   "file_extension": ".py",
   "mimetype": "text/x-python",
   "name": "python",
   "nbconvert_exporter": "python",
   "pygments_lexer": "ipython3",
   "version": "3.11.5"
  }
 },
 "nbformat": 4,
 "nbformat_minor": 2
}
